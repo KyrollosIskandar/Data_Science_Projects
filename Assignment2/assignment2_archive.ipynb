{
 "cells": [
  {
   "cell_type": "code",
   "execution_count": null,
   "metadata": {},
   "outputs": [],
   "source": [
    "# Calculate the velocity vector components. Explore the velocities.\n",
    "# Integration of acceleration with respect to time gives velocity. However, what were the initial velocities?\n",
    "# Casale et al. (2011) says that \"[o]nce the user presses the starting button, she/he can start to perform the activity.\"\n",
    "# Therefore, the participants' intial velocity was zero. Therefore, when we integrate the acceleration with respect to time, we do not need to deal with a constant of integration.\n",
    "# The data is in discrete form. So we must integrate discretely. Thus, the integration is more of a progressive summation.\n",
    "# We start with velocity = 0, then the velocity changes according to the acceleration.\n",
    "\n",
    "## Calculate the velocity vectors as a function of time. ##\n",
    "DataFrame = Participant1_Time_VL\n",
    "# Initialise the velocity DataFrame. They are to be concatenated to the corresponding participants' DataFrames later.\n",
    "VelocityX, VelocityY, VelocityZ = np.zeros((DataFrame.shape[0], 1)), np.zeros((DataFrame.shape[0], 1)), np.zeros((DataFrame.shape[0], 1))\n",
    "VelocityX_DF, VelocityY_DF, VelocityZ_DF = pd.DataFrame(VelocityX), pd.DataFrame(VelocityY), pd.DataFrame(VelocityZ)\n",
    "VelocityX_DF.rename(columns = {0:\"x velocity\"}, inplace = True)\n",
    "VelocityY_DF.rename(columns = {0:\"y velocity\"}, inplace = True)\n",
    "VelocityZ_DF.rename(columns = {0:\"z velocity\"}, inplace = True)\n",
    "Velocity_P1 = pd.concat([VelocityX_DF, VelocityY_DF, VelocityZ_DF], axis = 1)\n",
    "# Calculate the velocity components as functions of time. ### Velocity = (Initial velocity) + (Initial acceleration) * (Change in time)\n",
    "for col_num in range(0, Velocity_P1.shape[1]):\n",
    "    for row in range(1, DataFrame.shape[0]):\n",
    "        Velocity_P1.iloc[row, col_num] = Velocity_P1.iloc[row - 1, col_num] + DataFrame.iloc[row - 1, col_num + 1] * (DataFrame.iloc[row, 0] - DataFrame.iloc[row - 1, 0])\n",
    "        \n",
    "\n",
    "### References:\n",
    "# Casale, P, Pujol, O & Radeva, P (2011). Human Activity Recognition from Accelerometer Data Using a Wearable Device, IbPRIA 2011, pp. 289-296. Springer-Verlag.\n",
    "\n",
    "# Concatenate the velocity DataFrame to the initial DataFrame.\n",
    "Participant1_TimeVel_VL = pd.concat([Participant1_Time_VL, Velocity_P1], axis = 1)\n",
    "Participant1_TimeVel_VL"
   ]
  },
  {
   "cell_type": "code",
   "execution_count": null,
   "metadata": {},
   "outputs": [],
   "source": [
    "# Concatenate the velocity DataFrame to the initial DataFrame.\n",
    "Participant1_TimeVel_VL = pd.concat([Participant1_Time_VL, Velocity_P1], axis = 1)\n",
    "Participant1_TimeVel_VL"
   ]
  },
  {
   "cell_type": "code",
   "execution_count": null,
   "metadata": {},
   "outputs": [],
   "source": [
    "# Check the velocities.\n",
    "Participant1_TimeVel_VL.plot(kind = \"scatter\", x = \"Time /s\", y = \"z velocity\")\n",
    "# Perhaps if we calculate position, the velocities would make sense."
   ]
  },
  {
   "cell_type": "code",
   "execution_count": null,
   "metadata": {},
   "outputs": [],
   "source": [
    "## Calculate the position vectors as a function of time. The zero position is where the participant started. So the intial position is zero. ##\n",
    "DataFrame = Participant1_TimeVel_VL\n",
    "# Initialise the velocity DataFrame. They are to be concatenated to the corresponding participants' DataFrames later.\n",
    "PositionX, PositionY, PositionZ = np.zeros((DataFrame.shape[0], 1)), np.zeros((DataFrame.shape[0], 1)), np.zeros((DataFrame.shape[0], 1))\n",
    "PositionX_DF, PositionY_DF, PositionZ_DF = pd.DataFrame(PositionX), pd.DataFrame(PositionY), pd.DataFrame(PositionZ)\n",
    "PositionX_DF.rename(columns = {0:\"x position\"}, inplace = True)\n",
    "PositionY_DF.rename(columns = {0:\"y position\"}, inplace = True)\n",
    "PositionZ_DF.rename(columns = {0:\"z position\"}, inplace = True)\n",
    "Position_P1 = pd.concat([PositionX_DF, PositionY_DF, PositionZ_DF], axis = 1)\n",
    "# Calculate the position components as functions of time. ### Position = (Initial position) + (Initial velocity) * (Change in time)\n",
    "for col_num in range(0, Position_P1.shape[1]):\n",
    "    for row in range(1, DataFrame.shape[0]):\n",
    "        Position_P1.iloc[row, col_num] = Position_P1.iloc[row - 1, col_num] + DataFrame.iloc[row - 1, col_num + 5] * (DataFrame.iloc[row, 0] - DataFrame.iloc[row - 1, 0])\n",
    "   "
   ]
  },
  {
   "cell_type": "code",
   "execution_count": null,
   "metadata": {},
   "outputs": [],
   "source": [
    "# Concatenate the position DataFrame to the initial DataFrame.\n",
    "Participant1_TimeVelPos_VL = pd.concat([Participant1_TimeVel_VL, Position_P1], axis = 1)\n",
    "Participant1_TimeVelPos_VL"
   ]
  },
  {
   "cell_type": "code",
   "execution_count": null,
   "metadata": {},
   "outputs": [],
   "source": [
    "# Check the positions\n",
    "Participant1_TimeVelPos_VL.plot(kind = \"scatter\", x = \"Time /s\", y = \"x position\")\n",
    "# It looks like the participant was going somewhere."
   ]
  },
  {
   "cell_type": "code",
   "execution_count": null,
   "metadata": {},
   "outputs": [],
   "source": [
    "# Check the positions\n",
    "Participant1_TimeVelPos_VL.plot(kind = \"scatter\", x = \"Time /s\", y = \"y position\")\n",
    "# It looks like the participant was going downstairs, because the positive direction of the y-axis points up.\n",
    "\n",
    "### References:\n",
    "# Casale, P, Pujol, O & Radeva, P (2011). Human Activity Recognition from Accelerometer Data Using a Wearable Device, IbPRIA 2011, pp. 289-296. Springer-Verlag."
   ]
  },
  {
   "cell_type": "code",
   "execution_count": null,
   "metadata": {},
   "outputs": [],
   "source": [
    "# Check the positions\n",
    "Participant1_TimeVelPos_VL.plot(kind = \"scatter\", x = \"Time /s\", y = \"z position\")\n",
    "# It looks like the participant was going somewhere."
   ]
  },
  {
   "cell_type": "code",
   "execution_count": null,
   "metadata": {},
   "outputs": [],
   "source": [
    "# Let us make a DataFrame like \"Participant1_TimeVelPos_VL\" for each of the other 14 participants and see how the velocities and positions vary between participants.\n",
    "### For Participant 2: ###\n",
    "## Calculate the velocity vectors as a function of time. ##\n",
    "DataFrame = Participant2_Time_VL ######### This line, and the last line, is varied for each participant. Input --Process--> Output; same process for each participant. ##########\n",
    "\n",
    "# Initialise the velocity DataFrame. They are to be concatenated to the corresponding participants' DataFrames later.\n",
    "VelocityX, VelocityY, VelocityZ = np.zeros((DataFrame.shape[0], 1)), np.zeros((DataFrame.shape[0], 1)), np.zeros((DataFrame.shape[0], 1))\n",
    "VelocityX_DF, VelocityY_DF, VelocityZ_DF = pd.DataFrame(VelocityX), pd.DataFrame(VelocityY), pd.DataFrame(VelocityZ)\n",
    "VelocityX_DF.rename(columns = {0:\"x velocity\"}, inplace = True)\n",
    "VelocityY_DF.rename(columns = {0:\"y velocity\"}, inplace = True)\n",
    "VelocityZ_DF.rename(columns = {0:\"z velocity\"}, inplace = True)\n",
    "Velocity_DF = pd.concat([VelocityX_DF, VelocityY_DF, VelocityZ_DF], axis = 1)\n",
    "# Calculate the velocity components as functions of time. ### Velocity = (Initial velocity) + (Initial acceleration) * (Change in time)\n",
    "for col_num in range(0, Velocity_DF.shape[1]):\n",
    "    for row in range(1, DataFrame.shape[0]):\n",
    "        Velocity_DF.iloc[row, col_num] = Velocity_DF.iloc[row - 1, col_num] + DataFrame.iloc[row - 1, col_num + 1] * (DataFrame.iloc[row, 0] - DataFrame.iloc[row - 1, 0])\n",
    "\n",
    "# Concatenate the velocity DataFrame to the initial DataFrame.\n",
    "Participant_TimeVel_VL = pd.concat([DataFrame, Velocity_DF], axis = 1) # This is a temporary DataFrame.\n",
    "\n",
    "## Calculate the position vectors as a function of time. The zero position is where the participant started. So the intial position is zero. ##\n",
    "DataFrame = Participant_TimeVel_VL\n",
    "# Initialise the velocity DataFrame. They are to be concatenated to the corresponding participants' DataFrames later.\n",
    "PositionX, PositionY, PositionZ = np.zeros((DataFrame.shape[0], 1)), np.zeros((DataFrame.shape[0], 1)), np.zeros((DataFrame.shape[0], 1))\n",
    "PositionX_DF, PositionY_DF, PositionZ_DF = pd.DataFrame(PositionX), pd.DataFrame(PositionY), pd.DataFrame(PositionZ)\n",
    "PositionX_DF.rename(columns = {0:\"x position\"}, inplace = True)\n",
    "PositionY_DF.rename(columns = {0:\"y position\"}, inplace = True)\n",
    "PositionZ_DF.rename(columns = {0:\"z position\"}, inplace = True)\n",
    "Position_DF = pd.concat([PositionX_DF, PositionY_DF, PositionZ_DF], axis = 1)\n",
    "# Calculate the position components as functions of time. ### Position = (Initial position) + (Initial velocity) * (Change in time)\n",
    "for col_num in range(0, Position_DF.shape[1]):\n",
    "    for row in range(1, DataFrame.shape[0]):\n",
    "        Position_DF.iloc[row, col_num] = Position_DF.iloc[row - 1, col_num] + DataFrame.iloc[row - 1, col_num + 5] * (DataFrame.iloc[row, 0] - DataFrame.iloc[row - 1, 0])\n",
    "  \n",
    "# Concatenate the position DataFrame to the initial DataFrame.\n",
    "Participant2_TimeVelPos_VL = pd.concat([DataFrame, Position_DF], axis = 1)\n",
    "Participant2_TimeVelPos_VL"
   ]
  },
  {
   "cell_type": "code",
   "execution_count": null,
   "metadata": {},
   "outputs": [],
   "source": [
    "# Check the positions\n",
    "Participant2_TimeVelPos_VL.plot(kind = \"scatter\", x = \"Time /s\", y = \"x position\")\n",
    "# It looks like the participant was going somewhere."
   ]
  },
  {
   "cell_type": "code",
   "execution_count": null,
   "metadata": {},
   "outputs": [],
   "source": [
    "# Check the positions\n",
    "Participant2_TimeVelPos_VL.plot(kind = \"scatter\", x = \"Time /s\", y = \"y position\")\n",
    "# It looks like the participant was going downstairs. Perhaps it was a longer set of stairs than those that Participant 1 took."
   ]
  },
  {
   "cell_type": "code",
   "execution_count": null,
   "metadata": {},
   "outputs": [],
   "source": [
    "# Check the positions\n",
    "Participant2_TimeVelPos_VL.plot(kind = \"scatter\", x = \"Time /s\", y = \"z position\")\n",
    "# It looks like the participant was going somewhere.\n",
    "\n",
    "# For the remaining participants, let us first make the full VelPos (velocity-position) DataFrame, then make scatter matrices to visualise the data.\n",
    "# There is going to be two scatter matrices for each participant - one for the velocities and the other for the positions."
   ]
  },
  {
   "cell_type": "code",
   "execution_count": null,
   "metadata": {},
   "outputs": [],
   "source": [
    "# Let us make a DataFrame like \"Participant1_TimeVelPos_VL\" for each of the other 14 participants and see how the velocities and positions vary between participants.\n",
    "### For Participant 3: ###\n",
    "## Calculate the velocity vectors as a function of time. ##\n",
    "DataFrame = Participant3_Time_VL ######### This line, and the last line, is varied for each participant. Input --Process--> Output; same process for each participant. ##########\n",
    "\n",
    "# Initialise the velocity DataFrame. They are to be concatenated to the corresponding participants' DataFrames later.\n",
    "VelocityX, VelocityY, VelocityZ = np.zeros((DataFrame.shape[0], 1)), np.zeros((DataFrame.shape[0], 1)), np.zeros((DataFrame.shape[0], 1))\n",
    "VelocityX_DF, VelocityY_DF, VelocityZ_DF = pd.DataFrame(VelocityX), pd.DataFrame(VelocityY), pd.DataFrame(VelocityZ)\n",
    "VelocityX_DF.rename(columns = {0:\"x velocity\"}, inplace = True)\n",
    "VelocityY_DF.rename(columns = {0:\"y velocity\"}, inplace = True)\n",
    "VelocityZ_DF.rename(columns = {0:\"z velocity\"}, inplace = True)\n",
    "Velocity_DF = pd.concat([VelocityX_DF, VelocityY_DF, VelocityZ_DF], axis = 1)\n",
    "# Calculate the velocity components as functions of time. ### Velocity = (Initial velocity) + (Initial acceleration) * (Change in time)\n",
    "for col_num in range(0, Velocity_DF.shape[1]):\n",
    "    for row in range(1, DataFrame.shape[0]):\n",
    "        Velocity_DF.iloc[row, col_num] = Velocity_DF.iloc[row - 1, col_num] + DataFrame.iloc[row - 1, col_num + 1] * (DataFrame.iloc[row, 0] - DataFrame.iloc[row - 1, 0])\n",
    "\n",
    "# Concatenate the velocity DataFrame to the initial DataFrame.\n",
    "Participant_TimeVel_VL = pd.concat([DataFrame, Velocity_DF], axis = 1) # This is a temporary DataFrame.\n",
    "\n",
    "## Calculate the position vectors as a function of time. The zero position is where the participant started. So the intial position is zero. ##\n",
    "DataFrame = Participant_TimeVel_VL\n",
    "# Initialise the velocity DataFrame. They are to be concatenated to the corresponding participants' DataFrames later.\n",
    "PositionX, PositionY, PositionZ = np.zeros((DataFrame.shape[0], 1)), np.zeros((DataFrame.shape[0], 1)), np.zeros((DataFrame.shape[0], 1))\n",
    "PositionX_DF, PositionY_DF, PositionZ_DF = pd.DataFrame(PositionX), pd.DataFrame(PositionY), pd.DataFrame(PositionZ)\n",
    "PositionX_DF.rename(columns = {0:\"x position\"}, inplace = True)\n",
    "PositionY_DF.rename(columns = {0:\"y position\"}, inplace = True)\n",
    "PositionZ_DF.rename(columns = {0:\"z position\"}, inplace = True)\n",
    "Position_DF = pd.concat([PositionX_DF, PositionY_DF, PositionZ_DF], axis = 1)\n",
    "# Calculate the position components as functions of time. ### Position = (Initial position) + (Initial velocity) * (Change in time)\n",
    "for col_num in range(0, Position_DF.shape[1]):\n",
    "    for row in range(1, DataFrame.shape[0]):\n",
    "        Position_DF.iloc[row, col_num] = Position_DF.iloc[row - 1, col_num] + DataFrame.iloc[row - 1, col_num + 5] * (DataFrame.iloc[row, 0] - DataFrame.iloc[row - 1, 0])\n",
    "  \n",
    "# Concatenate the position DataFrame to the initial DataFrame.\n",
    "Participant3_TimeVelPos_VL = pd.concat([DataFrame, Position_DF], axis = 1)"
   ]
  },
  {
   "cell_type": "code",
   "execution_count": null,
   "metadata": {},
   "outputs": [],
   "source": [
    "# Let us make a DataFrame like \"Participant1_TimeVelPos_VL\" for each of the other 14 participants and see how the velocities and positions vary between participants.\n",
    "### For Participant 4: ###\n",
    "## Calculate the velocity vectors as a function of time. ##\n",
    "DataFrame = Participant4_Time_VL ######### This line, and the last line, is varied for each participant. Input --Process--> Output; same process for each participant. ##########\n",
    "\n",
    "# Initialise the velocity DataFrame. They are to be concatenated to the corresponding participants' DataFrames later.\n",
    "VelocityX, VelocityY, VelocityZ = np.zeros((DataFrame.shape[0], 1)), np.zeros((DataFrame.shape[0], 1)), np.zeros((DataFrame.shape[0], 1))\n",
    "VelocityX_DF, VelocityY_DF, VelocityZ_DF = pd.DataFrame(VelocityX), pd.DataFrame(VelocityY), pd.DataFrame(VelocityZ)\n",
    "VelocityX_DF.rename(columns = {0:\"x velocity\"}, inplace = True)\n",
    "VelocityY_DF.rename(columns = {0:\"y velocity\"}, inplace = True)\n",
    "VelocityZ_DF.rename(columns = {0:\"z velocity\"}, inplace = True)\n",
    "Velocity_DF = pd.concat([VelocityX_DF, VelocityY_DF, VelocityZ_DF], axis = 1)\n",
    "# Calculate the velocity components as functions of time. ### Velocity = (Initial velocity) + (Initial acceleration) * (Change in time)\n",
    "for col_num in range(0, Velocity_DF.shape[1]):\n",
    "    for row in range(1, DataFrame.shape[0]):\n",
    "        Velocity_DF.iloc[row, col_num] = Velocity_DF.iloc[row - 1, col_num] + DataFrame.iloc[row - 1, col_num + 1] * (DataFrame.iloc[row, 0] - DataFrame.iloc[row - 1, 0])\n",
    "\n",
    "# Concatenate the velocity DataFrame to the initial DataFrame.\n",
    "Participant_TimeVel_VL = pd.concat([DataFrame, Velocity_DF], axis = 1) # This is a temporary DataFrame.\n",
    "\n",
    "## Calculate the position vectors as a function of time. The zero position is where the participant started. So the intial position is zero. ##\n",
    "DataFrame = Participant_TimeVel_VL\n",
    "# Initialise the velocity DataFrame. They are to be concatenated to the corresponding participants' DataFrames later.\n",
    "PositionX, PositionY, PositionZ = np.zeros((DataFrame.shape[0], 1)), np.zeros((DataFrame.shape[0], 1)), np.zeros((DataFrame.shape[0], 1))\n",
    "PositionX_DF, PositionY_DF, PositionZ_DF = pd.DataFrame(PositionX), pd.DataFrame(PositionY), pd.DataFrame(PositionZ)\n",
    "PositionX_DF.rename(columns = {0:\"x position\"}, inplace = True)\n",
    "PositionY_DF.rename(columns = {0:\"y position\"}, inplace = True)\n",
    "PositionZ_DF.rename(columns = {0:\"z position\"}, inplace = True)\n",
    "Position_DF = pd.concat([PositionX_DF, PositionY_DF, PositionZ_DF], axis = 1)\n",
    "# Calculate the position components as functions of time. ### Position = (Initial position) + (Initial velocity) * (Change in time)\n",
    "for col_num in range(0, Position_DF.shape[1]):\n",
    "    for row in range(1, DataFrame.shape[0]):\n",
    "        Position_DF.iloc[row, col_num] = Position_DF.iloc[row - 1, col_num] + DataFrame.iloc[row - 1, col_num + 5] * (DataFrame.iloc[row, 0] - DataFrame.iloc[row - 1, 0])\n",
    "  \n",
    "# Concatenate the position DataFrame to the initial DataFrame.\n",
    "Participant4_TimeVelPos_VL = pd.concat([DataFrame, Position_DF], axis = 1)\n",
    "\n",
    "######## Likewise for the other 11 participants."
   ]
  },
  {
   "cell_type": "code",
   "execution_count": null,
   "metadata": {},
   "outputs": [],
   "source": [
    "# Make the Class label column the last column in each DataFrame.\n",
    "ColumnOrder = [\"Time /s\",\"x acceleration\",\"y acceleration\",\"z acceleration\",\"x velocity\",\"y velocity\",\"z velocity\",\"x position\",\"y position\",\"z position\",\"Class label\"]\n",
    "\n",
    "Participant1_TimeVelPos_VL = Participant1_TimeVelPos_VL[ColumnOrder]\n",
    "Participant2_TimeVelPos_VL = Participant2_TimeVelPos_VL[ColumnOrder]\n",
    "Participant3_TimeVelPos_VL = Participant3_TimeVelPos_VL[ColumnOrder]\n",
    "Participant4_TimeVelPos_VL = Participant4_TimeVelPos_VL[ColumnOrder]\n",
    "Participant5_TimeVelPos_VL = Participant5_TimeVelPos_VL[ColumnOrder]\n",
    "Participant6_TimeVelPos_VL = Participant6_TimeVelPos_VL[ColumnOrder]\n",
    "Participant7_TimeVelPos_VL = Participant7_TimeVelPos_VL[ColumnOrder]\n",
    "Participant8_TimeVelPos_VL = Participant8_TimeVelPos_VL[ColumnOrder]\n",
    "Participant9_TimeVelPos_VL = Participant9_TimeVelPos_VL[ColumnOrder]\n",
    "Participant10_TimeVelPos_VL = Participant10_TimeVelPos_VL[ColumnOrder]\n",
    "Participant11_TimeVelPos_VL = Participant11_TimeVelPos_VL[ColumnOrder]\n",
    "Participant12_TimeVelPos_VL = Participant12_TimeVelPos_VL[ColumnOrder]\n",
    "Participant13_TimeVelPos_VL = Participant13_TimeVelPos_VL[ColumnOrder]\n",
    "Participant14_TimeVelPos_VL = Participant14_TimeVelPos_VL[ColumnOrder]\n",
    "Participant15_TimeVelPos_VL = Participant15_TimeVelPos_VL[ColumnOrder]\n",
    "\n",
    "### References:\n",
    "# https://stackoverflow.com/questions/35321812/move-column-in-pandas-dataframe"
   ]
  },
  {
   "cell_type": "code",
   "execution_count": null,
   "metadata": {},
   "outputs": [],
   "source": [
    "# Now that we have the VelPos DataFrames, let us make the scatter matrices.\n",
    "# Start with the velocities.\n",
    "scatter_matrix(Participant1_TimeVelPos_VL.iloc[:, [0, 4,5,6, 10]],alpha=0.4,figsize=(16,16),grid=True,diagonal='density')\n",
    "\n",
    "######### Likewise for the other 14 participants."
   ]
  },
  {
   "cell_type": "code",
   "execution_count": null,
   "metadata": {},
   "outputs": [],
   "source": [
    "# Now make a scatter matrix of the positions.\n",
    "scatter_matrix(Participant1_TimeVelPos_VL.iloc[:, [0, 7,8,9, 10]],alpha=0.4,figsize=(16,16),grid=True,diagonal='density')\n",
    "\n",
    "######### Likewise for the other 14 participants."
   ]
  }
 ],
 "metadata": {
  "kernelspec": {
   "display_name": "Python 3",
   "language": "python",
   "name": "python3"
  },
  "language_info": {
   "codemirror_mode": {
    "name": "ipython",
    "version": 3
   },
   "file_extension": ".py",
   "mimetype": "text/x-python",
   "name": "python",
   "nbconvert_exporter": "python",
   "pygments_lexer": "ipython3",
   "version": "3.7.4"
  }
 },
 "nbformat": 4,
 "nbformat_minor": 2
}
